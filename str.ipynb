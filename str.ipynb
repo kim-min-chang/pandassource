{
 "cells": [
  {
   "cell_type": "markdown",
   "metadata": {},
   "source": [
    "#### 텍스트 가공\n",
    "    - pandas.core.strings.StringMethods => str"
   ]
  },
  {
   "cell_type": "code",
   "execution_count": 1,
   "metadata": {},
   "outputs": [],
   "source": [
    "import pandas as pd\n",
    "import numpy as np"
   ]
  },
  {
   "cell_type": "code",
   "execution_count": 3,
   "metadata": {},
   "outputs": [
    {
     "data": {
      "text/plain": [
       "0      Suho\n",
       "1        AA\n",
       "2       NaN\n",
       "3    Rabbit\n",
       "dtype: object"
      ]
     },
     "execution_count": 3,
     "metadata": {},
     "output_type": "execute_result"
    }
   ],
   "source": [
    "ser = pd.Series([\"Suho\",\"AA\",np.nan,\"Rabbit\"])\n",
    "ser"
   ]
  },
  {
   "cell_type": "code",
   "execution_count": 4,
   "metadata": {},
   "outputs": [
    {
     "data": {
      "text/plain": [
       "0      suho\n",
       "1        aa\n",
       "2       NaN\n",
       "3    rabbit\n",
       "dtype: object"
      ]
     },
     "execution_count": 4,
     "metadata": {},
     "output_type": "execute_result"
    }
   ],
   "source": [
    "# 소문자 변경 : lower()\n",
    "\n",
    "ser.str.lower()"
   ]
  },
  {
   "cell_type": "code",
   "execution_count": 5,
   "metadata": {},
   "outputs": [
    {
     "data": {
      "text/plain": [
       "0      SUHO\n",
       "1        AA\n",
       "2       NaN\n",
       "3    RABBIT\n",
       "dtype: object"
      ]
     },
     "execution_count": 5,
     "metadata": {},
     "output_type": "execute_result"
    }
   ],
   "source": [
    "# 대문자 변경 : upper()\n",
    "ser.str.upper()"
   ]
  },
  {
   "cell_type": "code",
   "execution_count": 6,
   "metadata": {},
   "outputs": [
    {
     "data": {
      "text/plain": [
       "0    4.0\n",
       "1    2.0\n",
       "2    NaN\n",
       "3    6.0\n",
       "dtype: float64"
      ]
     },
     "execution_count": 6,
     "metadata": {},
     "output_type": "execute_result"
    }
   ],
   "source": [
    "# 문자열 길이: len()\n",
    "ser.str.len()"
   ]
  },
  {
   "cell_type": "code",
   "execution_count": 10,
   "metadata": {},
   "outputs": [
    {
     "data": {
      "text/plain": [
       "0     Suho     \n",
       "1            AA\n",
       "2           NaN\n",
       "3        Rabbit\n",
       "dtype: object"
      ]
     },
     "execution_count": 10,
     "metadata": {},
     "output_type": "execute_result"
    }
   ],
   "source": [
    "ser = pd.Series([\"Suho     \",\"AA\",np.nan,\"    Rabbit\"])\n",
    "ser"
   ]
  },
  {
   "cell_type": "code",
   "execution_count": 11,
   "metadata": {},
   "outputs": [
    {
     "data": {
      "text/plain": [
       "0      Suho\n",
       "1        AA\n",
       "2       NaN\n",
       "3    Rabbit\n",
       "dtype: object"
      ]
     },
     "execution_count": 11,
     "metadata": {},
     "output_type": "execute_result"
    }
   ],
   "source": [
    "# 공백제거 : strip()\n",
    "ser.str.strip()"
   ]
  },
  {
   "cell_type": "code",
   "execution_count": 12,
   "metadata": {},
   "outputs": [
    {
     "data": {
      "text/plain": [
       "0    ha_a_b\n",
       "1    hi_c_d\n",
       "2       NaN\n",
       "3    ho_e_f\n",
       "dtype: object"
      ]
     },
     "execution_count": 12,
     "metadata": {},
     "output_type": "execute_result"
    }
   ],
   "source": [
    "ser1 = pd.Series([\"ha_a_b\",\"hi_c_d\",np.nan,\"ho_e_f\"])\n",
    "ser1"
   ]
  },
  {
   "cell_type": "code",
   "execution_count": 14,
   "metadata": {},
   "outputs": [
    {
     "data": {
      "text/html": [
       "<div>\n",
       "<style scoped>\n",
       "    .dataframe tbody tr th:only-of-type {\n",
       "        vertical-align: middle;\n",
       "    }\n",
       "\n",
       "    .dataframe tbody tr th {\n",
       "        vertical-align: top;\n",
       "    }\n",
       "\n",
       "    .dataframe thead th {\n",
       "        text-align: right;\n",
       "    }\n",
       "</style>\n",
       "<table border=\"1\" class=\"dataframe\">\n",
       "  <thead>\n",
       "    <tr style=\"text-align: right;\">\n",
       "      <th></th>\n",
       "      <th>0</th>\n",
       "      <th>1</th>\n",
       "      <th>2</th>\n",
       "    </tr>\n",
       "  </thead>\n",
       "  <tbody>\n",
       "    <tr>\n",
       "      <th>0</th>\n",
       "      <td>ha</td>\n",
       "      <td>a</td>\n",
       "      <td>b</td>\n",
       "    </tr>\n",
       "    <tr>\n",
       "      <th>1</th>\n",
       "      <td>hi</td>\n",
       "      <td>c</td>\n",
       "      <td>d</td>\n",
       "    </tr>\n",
       "    <tr>\n",
       "      <th>2</th>\n",
       "      <td>NaN</td>\n",
       "      <td>NaN</td>\n",
       "      <td>NaN</td>\n",
       "    </tr>\n",
       "    <tr>\n",
       "      <th>3</th>\n",
       "      <td>ho</td>\n",
       "      <td>e</td>\n",
       "      <td>f</td>\n",
       "    </tr>\n",
       "  </tbody>\n",
       "</table>\n",
       "</div>"
      ],
      "text/plain": [
       "     0    1    2\n",
       "0   ha    a    b\n",
       "1   hi    c    d\n",
       "2  NaN  NaN  NaN\n",
       "3   ho    e    f"
      ]
     },
     "execution_count": 14,
     "metadata": {},
     "output_type": "execute_result"
    }
   ],
   "source": [
    "# _ 를 기준으로 분리\n",
    "ser1.str.split(\"_\",expand=True)"
   ]
  },
  {
   "cell_type": "code",
   "execution_count": 15,
   "metadata": {},
   "outputs": [
    {
     "data": {
      "text/html": [
       "<div>\n",
       "<style scoped>\n",
       "    .dataframe tbody tr th:only-of-type {\n",
       "        vertical-align: middle;\n",
       "    }\n",
       "\n",
       "    .dataframe tbody tr th {\n",
       "        vertical-align: top;\n",
       "    }\n",
       "\n",
       "    .dataframe thead th {\n",
       "        text-align: right;\n",
       "    }\n",
       "</style>\n",
       "<table border=\"1\" class=\"dataframe\">\n",
       "  <thead>\n",
       "    <tr style=\"text-align: right;\">\n",
       "      <th></th>\n",
       "      <th>Column A</th>\n",
       "      <th>Column B</th>\n",
       "    </tr>\n",
       "  </thead>\n",
       "  <tbody>\n",
       "    <tr>\n",
       "      <th>0</th>\n",
       "      <td>-0.031676</td>\n",
       "      <td>-0.390487</td>\n",
       "    </tr>\n",
       "    <tr>\n",
       "      <th>1</th>\n",
       "      <td>0.520582</td>\n",
       "      <td>-1.386036</td>\n",
       "    </tr>\n",
       "  </tbody>\n",
       "</table>\n",
       "</div>"
      ],
      "text/plain": [
       "   Column A     Column B   \n",
       "0    -0.031676    -0.390487\n",
       "1     0.520582    -1.386036"
      ]
     },
     "execution_count": 15,
     "metadata": {},
     "output_type": "execute_result"
    }
   ],
   "source": [
    "df = pd.DataFrame(np.random.randn(2,2), columns=[\"   Column A   \",\"   Column B   \"], index=range(2))\n",
    "df"
   ]
  },
  {
   "cell_type": "code",
   "execution_count": 16,
   "metadata": {},
   "outputs": [
    {
     "data": {
      "text/plain": [
       "Index(['   Column A   ', '   Column B   '], dtype='object')"
      ]
     },
     "execution_count": 16,
     "metadata": {},
     "output_type": "execute_result"
    }
   ],
   "source": [
    "df.columns"
   ]
  },
  {
   "cell_type": "code",
   "execution_count": 17,
   "metadata": {},
   "outputs": [
    {
     "data": {
      "text/plain": [
       "Index(['Column A', 'Column B'], dtype='object')"
      ]
     },
     "execution_count": 17,
     "metadata": {},
     "output_type": "execute_result"
    }
   ],
   "source": [
    "df.columns.str.strip()"
   ]
  },
  {
   "cell_type": "code",
   "execution_count": 18,
   "metadata": {},
   "outputs": [
    {
     "data": {
      "text/plain": [
       "Index(['column a', 'column b'], dtype='object')"
      ]
     },
     "execution_count": 18,
     "metadata": {},
     "output_type": "execute_result"
    }
   ],
   "source": [
    "df.columns.str.strip().str.lower()"
   ]
  },
  {
   "cell_type": "code",
   "execution_count": 20,
   "metadata": {},
   "outputs": [
    {
     "data": {
      "text/plain": [
       "Index(['column_a', 'column_b'], dtype='object')"
      ]
     },
     "execution_count": 20,
     "metadata": {},
     "output_type": "execute_result"
    }
   ],
   "source": [
    "df.columns.str.strip().str.lower().str.replace(\" \",\"_\")"
   ]
  },
  {
   "cell_type": "code",
   "execution_count": 22,
   "metadata": {},
   "outputs": [
    {
     "data": {
      "text/html": [
       "<div>\n",
       "<style scoped>\n",
       "    .dataframe tbody tr th:only-of-type {\n",
       "        vertical-align: middle;\n",
       "    }\n",
       "\n",
       "    .dataframe tbody tr th {\n",
       "        vertical-align: top;\n",
       "    }\n",
       "\n",
       "    .dataframe thead th {\n",
       "        text-align: right;\n",
       "    }\n",
       "</style>\n",
       "<table border=\"1\" class=\"dataframe\">\n",
       "  <thead>\n",
       "    <tr style=\"text-align: right;\">\n",
       "      <th></th>\n",
       "      <th>schedule</th>\n",
       "    </tr>\n",
       "  </thead>\n",
       "  <tbody>\n",
       "    <tr>\n",
       "      <th>0</th>\n",
       "      <td>1st_seq: getting up at 05:45am</td>\n",
       "    </tr>\n",
       "    <tr>\n",
       "      <th>1</th>\n",
       "      <td>2st_seq: swimming from 06:00 to 07:00am</td>\n",
       "    </tr>\n",
       "    <tr>\n",
       "      <th>2</th>\n",
       "      <td>3st_seq: My morning food is American style</td>\n",
       "    </tr>\n",
       "    <tr>\n",
       "      <th>3</th>\n",
       "      <td>4st_seq: Writing some proposal from 02:00pm to...</td>\n",
       "    </tr>\n",
       "    <tr>\n",
       "      <th>4</th>\n",
       "      <td>5st_seq: Arriving at JongGak at 07:00pm</td>\n",
       "    </tr>\n",
       "    <tr>\n",
       "      <th>5</th>\n",
       "      <td>6st_seq: Fun with friends enjoy beer till 09:20pm</td>\n",
       "    </tr>\n",
       "    <tr>\n",
       "      <th>6</th>\n",
       "      <td>7st_seq: My house at 10:30pm and sleeping by 1...</td>\n",
       "    </tr>\n",
       "  </tbody>\n",
       "</table>\n",
       "</div>"
      ],
      "text/plain": [
       "                                            schedule\n",
       "0                     1st_seq: getting up at 05:45am\n",
       "1            2st_seq: swimming from 06:00 to 07:00am\n",
       "2         3st_seq: My morning food is American style\n",
       "3  4st_seq: Writing some proposal from 02:00pm to...\n",
       "4            5st_seq: Arriving at JongGak at 07:00pm\n",
       "5  6st_seq: Fun with friends enjoy beer till 09:20pm\n",
       "6  7st_seq: My house at 10:30pm and sleeping by 1..."
      ]
     },
     "execution_count": 22,
     "metadata": {},
     "output_type": "execute_result"
    }
   ],
   "source": [
    "day_plan = [\n",
    "    \"1st_seq: getting up at 05:45am\",\n",
    "    \"2st_seq: swimming from 06:00 to 07:00am\",\n",
    "    \"3st_seq: My morning food is American style\",\n",
    "    \"4st_seq: Writing some proposal from 02:00pm to 06:00pm\",\n",
    "    \"5st_seq: Arriving at JongGak at 07:00pm\",\n",
    "    \"6st_seq: Fun with friends enjoy beer till 09:20pm\",\n",
    "    \"7st_seq: My house at 10:30pm and sleeping by 12:00pm\",\n",
    "]\n",
    "df = pd.DataFrame(day_plan, columns=[\"schedule\"])\n",
    "df"
   ]
  },
  {
   "cell_type": "code",
   "execution_count": 25,
   "metadata": {},
   "outputs": [
    {
     "data": {
      "text/plain": [
       "0                 [1st_seq:, getting, up, at, 05:45am]\n",
       "1       [2st_seq:, swimming, from, 06:00, to, 07:00am]\n",
       "2    [3st_seq:, My, morning, food, is, American, st...\n",
       "3    [4st_seq:, Writing, some, proposal, from, 02:0...\n",
       "4       [5st_seq:, Arriving, at, JongGak, at, 07:00pm]\n",
       "5    [6st_seq:, Fun, with, friends, enjoy, beer, ti...\n",
       "6    [7st_seq:, My, house, at, 10:30pm, and, sleepi...\n",
       "Name: schedule, dtype: object"
      ]
     },
     "execution_count": 25,
     "metadata": {},
     "output_type": "execute_result"
    }
   ],
   "source": [
    "# 공백 기준 분리\n",
    "\n",
    "df[\"schedule\"].str.split()"
   ]
  },
  {
   "cell_type": "code",
   "execution_count": 26,
   "metadata": {},
   "outputs": [
    {
     "data": {
      "text/html": [
       "<div>\n",
       "<style scoped>\n",
       "    .dataframe tbody tr th:only-of-type {\n",
       "        vertical-align: middle;\n",
       "    }\n",
       "\n",
       "    .dataframe tbody tr th {\n",
       "        vertical-align: top;\n",
       "    }\n",
       "\n",
       "    .dataframe thead th {\n",
       "        text-align: right;\n",
       "    }\n",
       "</style>\n",
       "<table border=\"1\" class=\"dataframe\">\n",
       "  <thead>\n",
       "    <tr style=\"text-align: right;\">\n",
       "      <th></th>\n",
       "      <th>0</th>\n",
       "      <th>1</th>\n",
       "      <th>2</th>\n",
       "      <th>3</th>\n",
       "      <th>4</th>\n",
       "      <th>5</th>\n",
       "      <th>6</th>\n",
       "      <th>7</th>\n",
       "      <th>8</th>\n",
       "    </tr>\n",
       "  </thead>\n",
       "  <tbody>\n",
       "    <tr>\n",
       "      <th>0</th>\n",
       "      <td>1st_seq:</td>\n",
       "      <td>getting</td>\n",
       "      <td>up</td>\n",
       "      <td>at</td>\n",
       "      <td>05:45am</td>\n",
       "      <td>None</td>\n",
       "      <td>None</td>\n",
       "      <td>None</td>\n",
       "      <td>None</td>\n",
       "    </tr>\n",
       "    <tr>\n",
       "      <th>1</th>\n",
       "      <td>2st_seq:</td>\n",
       "      <td>swimming</td>\n",
       "      <td>from</td>\n",
       "      <td>06:00</td>\n",
       "      <td>to</td>\n",
       "      <td>07:00am</td>\n",
       "      <td>None</td>\n",
       "      <td>None</td>\n",
       "      <td>None</td>\n",
       "    </tr>\n",
       "    <tr>\n",
       "      <th>2</th>\n",
       "      <td>3st_seq:</td>\n",
       "      <td>My</td>\n",
       "      <td>morning</td>\n",
       "      <td>food</td>\n",
       "      <td>is</td>\n",
       "      <td>American</td>\n",
       "      <td>style</td>\n",
       "      <td>None</td>\n",
       "      <td>None</td>\n",
       "    </tr>\n",
       "    <tr>\n",
       "      <th>3</th>\n",
       "      <td>4st_seq:</td>\n",
       "      <td>Writing</td>\n",
       "      <td>some</td>\n",
       "      <td>proposal</td>\n",
       "      <td>from</td>\n",
       "      <td>02:00pm</td>\n",
       "      <td>to</td>\n",
       "      <td>06:00pm</td>\n",
       "      <td>None</td>\n",
       "    </tr>\n",
       "    <tr>\n",
       "      <th>4</th>\n",
       "      <td>5st_seq:</td>\n",
       "      <td>Arriving</td>\n",
       "      <td>at</td>\n",
       "      <td>JongGak</td>\n",
       "      <td>at</td>\n",
       "      <td>07:00pm</td>\n",
       "      <td>None</td>\n",
       "      <td>None</td>\n",
       "      <td>None</td>\n",
       "    </tr>\n",
       "    <tr>\n",
       "      <th>5</th>\n",
       "      <td>6st_seq:</td>\n",
       "      <td>Fun</td>\n",
       "      <td>with</td>\n",
       "      <td>friends</td>\n",
       "      <td>enjoy</td>\n",
       "      <td>beer</td>\n",
       "      <td>till</td>\n",
       "      <td>09:20pm</td>\n",
       "      <td>None</td>\n",
       "    </tr>\n",
       "    <tr>\n",
       "      <th>6</th>\n",
       "      <td>7st_seq:</td>\n",
       "      <td>My</td>\n",
       "      <td>house</td>\n",
       "      <td>at</td>\n",
       "      <td>10:30pm</td>\n",
       "      <td>and</td>\n",
       "      <td>sleeping</td>\n",
       "      <td>by</td>\n",
       "      <td>12:00pm</td>\n",
       "    </tr>\n",
       "  </tbody>\n",
       "</table>\n",
       "</div>"
      ],
      "text/plain": [
       "          0         1        2         3        4         5         6  \\\n",
       "0  1st_seq:   getting       up        at  05:45am      None      None   \n",
       "1  2st_seq:  swimming     from     06:00       to   07:00am      None   \n",
       "2  3st_seq:        My  morning      food       is  American     style   \n",
       "3  4st_seq:   Writing     some  proposal     from   02:00pm        to   \n",
       "4  5st_seq:  Arriving       at   JongGak       at   07:00pm      None   \n",
       "5  6st_seq:       Fun     with   friends    enjoy      beer      till   \n",
       "6  7st_seq:        My    house        at  10:30pm       and  sleeping   \n",
       "\n",
       "         7        8  \n",
       "0     None     None  \n",
       "1     None     None  \n",
       "2     None     None  \n",
       "3  06:00pm     None  \n",
       "4     None     None  \n",
       "5  09:20pm     None  \n",
       "6       by  12:00pm  "
      ]
     },
     "execution_count": 26,
     "metadata": {},
     "output_type": "execute_result"
    }
   ],
   "source": [
    "df[\"schedule\"].str.split(expand=True)"
   ]
  },
  {
   "cell_type": "code",
   "execution_count": 27,
   "metadata": {},
   "outputs": [
    {
     "data": {
      "text/plain": [
       "0    5\n",
       "1    6\n",
       "2    7\n",
       "3    8\n",
       "4    6\n",
       "5    8\n",
       "6    9\n",
       "Name: schedule, dtype: int64"
      ]
     },
     "execution_count": 27,
     "metadata": {},
     "output_type": "execute_result"
    }
   ],
   "source": [
    "df[\"schedule\"].str.split().str.len()"
   ]
  },
  {
   "cell_type": "code",
   "execution_count": 28,
   "metadata": {},
   "outputs": [
    {
     "data": {
      "text/plain": [
       "0    False\n",
       "1    False\n",
       "2     True\n",
       "3    False\n",
       "4    False\n",
       "5    False\n",
       "6     True\n",
       "Name: schedule, dtype: bool"
      ]
     },
     "execution_count": 28,
     "metadata": {},
     "output_type": "execute_result"
    }
   ],
   "source": [
    "# My 단어 포함 여부\n",
    "\n",
    "df[\"schedule\"].str.contains(\"My\")"
   ]
  },
  {
   "cell_type": "code",
   "execution_count": 30,
   "metadata": {},
   "outputs": [],
   "source": [
    "# df=> csv 파일로 저장\n",
    "\n",
    "df.to_csv(\"./resources/df.csv\",index=False)"
   ]
  },
  {
   "cell_type": "code",
   "execution_count": 47,
   "metadata": {},
   "outputs": [],
   "source": [
    "# 유튜브 댓글 크롤링 / 데이터 프레임\n",
    "\n",
    "from selenium import webdriver\n",
    "from selenium.webdriver.common.by import By\n",
    "from selenium.webdriver.common.keys import Keys\n",
    "import time\n",
    "from bs4 import BeautifulSoup\n",
    "\n",
    "driver = webdriver.Chrome()\n",
    "# driver.maximize_window()\n",
    "\n",
    "\n",
    "driver.get(\"https://www.youtube.com/watch?v=HosW0gulISQ\")\n",
    "time.sleep(3)\n",
    "\n",
    "# 댓글수집\n",
    "# 페이지 이동후 스크롤입력 : window.scrollTo(시작위치, 종료위치)\n",
    "# 현재문서 높이\n",
    "prev_height = driver.execute_script(\"document.documentElement.scrollHeight\")\n",
    "\n",
    "while True:\n",
    "    # 스크롤이동\n",
    "    driver.execute_script(\"window.scrollTo(0,document.documentElement.scrollHeight)\")\n",
    "    time.sleep(2)\n",
    "\n",
    "    # 스크롤이 진행된 후 문서높이\n",
    "    curry_height = driver.execute_script(\"return document.documentElement.scrollHeight\")\n",
    "    \n",
    "    if curry_height == prev_height:\n",
    "        break\n",
    "\n",
    "    prev_height = curry_height\n",
    "\n",
    "# 맨처음으로 가기\n",
    "driver.execute_script(\"window.scrollTo(0,0)\")\n",
    "time.sleep(2)\n",
    "\n",
    "# 댓글 가져오기\n",
    "response = driver.page_source\n",
    "soup = BeautifulSoup(response, \"html.parser\")\n"
   ]
  },
  {
   "cell_type": "code",
   "execution_count": 48,
   "metadata": {},
   "outputs": [],
   "source": [
    "# 파싱 : 아이디, 코멘트 \n",
    "id_list = soup.select(\"#auther-text > span\")\n",
    "comment_list = soup.select(\"#content-text > span\")\n"
   ]
  },
  {
   "cell_type": "code",
   "execution_count": 53,
   "metadata": {},
   "outputs": [],
   "source": [
    "for i in range(len(id_list)):\n",
    "    print(id_list[i].text.strip(), comment_list[i].text.strip())"
   ]
  },
  {
   "cell_type": "code",
   "execution_count": 50,
   "metadata": {},
   "outputs": [],
   "source": [
    "# 엔터 제거 / @ 제거\n",
    "\n",
    "id_list_clean = []\n",
    "comment_list_clean =[]\n",
    "\n",
    "for i in range(len(id_list)):\n",
    "    id,comment =id_list[i].text.strip(), comment_list[i].text.strip()\n",
    "    cln_id = id.replace(\"@\",\"\")\n",
    "    cln_id = cln_id.replace(\"\\n\",\"\")\n",
    "    id_list_clean.append(cln_id)\n",
    "\n",
    "    comment_id = comment.replace(\"\\n\",\"\")\n",
    "    comment_id = comment_id.replace(\"\\t\",\"\")\n",
    "    comment_list_clean.append(comment_id)\n",
    "\n",
    "# 확인\n",
    "for i in range(len(id_list_clean)):\n",
    "    print(id_list_clean[i],comment_list_clean[i])\n"
   ]
  },
  {
   "cell_type": "code",
   "execution_count": 51,
   "metadata": {},
   "outputs": [
    {
     "data": {
      "text/html": [
       "<div>\n",
       "<style scoped>\n",
       "    .dataframe tbody tr th:only-of-type {\n",
       "        vertical-align: middle;\n",
       "    }\n",
       "\n",
       "    .dataframe tbody tr th {\n",
       "        vertical-align: top;\n",
       "    }\n",
       "\n",
       "    .dataframe thead th {\n",
       "        text-align: right;\n",
       "    }\n",
       "</style>\n",
       "<table border=\"1\" class=\"dataframe\">\n",
       "  <thead>\n",
       "    <tr style=\"text-align: right;\">\n",
       "      <th></th>\n",
       "      <th>id</th>\n",
       "      <th>comment</th>\n",
       "    </tr>\n",
       "  </thead>\n",
       "  <tbody>\n",
       "  </tbody>\n",
       "</table>\n",
       "</div>"
      ],
      "text/plain": [
       "Empty DataFrame\n",
       "Columns: [id, comment]\n",
       "Index: []"
      ]
     },
     "execution_count": 51,
     "metadata": {},
     "output_type": "execute_result"
    }
   ],
   "source": [
    "df = pd.DataFrame(\n",
    "    {\"id\":id_list_clean, \"comment\":comment_list_clean}\n",
    ")\n",
    "df"
   ]
  },
  {
   "cell_type": "code",
   "execution_count": 52,
   "metadata": {},
   "outputs": [],
   "source": [
    "df.to_csv(\"./resources/comment.csv\",index=False)"
   ]
  }
 ],
 "metadata": {
  "kernelspec": {
   "display_name": "venv",
   "language": "python",
   "name": "python3"
  },
  "language_info": {
   "codemirror_mode": {
    "name": "ipython",
    "version": 3
   },
   "file_extension": ".py",
   "mimetype": "text/x-python",
   "name": "python",
   "nbconvert_exporter": "python",
   "pygments_lexer": "ipython3",
   "version": "3.13.1"
  }
 },
 "nbformat": 4,
 "nbformat_minor": 2
}
